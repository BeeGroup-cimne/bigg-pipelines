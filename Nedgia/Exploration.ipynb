{
 "cells": [
  {
   "cell_type": "code",
   "execution_count": 100,
   "metadata": {
    "collapsed": true
   },
   "outputs": [],
   "source": [
    "# Imports\n",
    "import pandas as pd\n",
    "from datetime import datetime\n",
    "import itertools\n",
    "\n",
    "tz_info = 'Europe/Madrid'"
   ]
  },
  {
   "cell_type": "code",
   "execution_count": 101,
   "outputs": [],
   "source": [
    "df = pd.read_excel('../data/Generalitat Extracción_2018.xlsx', skiprows=2)"
   ],
   "metadata": {
    "collapsed": false,
    "pycharm": {
     "name": "#%%\n"
    }
   }
  },
  {
   "cell_type": "code",
   "execution_count": 102,
   "outputs": [
    {
     "data": {
      "text/plain": "                   CUPS        EG2       EG3 Fecha inicio Docu. cálculo  \\\n0  ES0217010002161818HX  BARCELONA  BADALONA                 2017-12-16   \n1  ES0217010002161818HX  BARCELONA  BADALONA                 2018-01-01   \n2  ES0217010002161818HX  BARCELONA  BADALONA                 2018-01-13   \n3  ES0217010002161818HX  BARCELONA  BADALONA                 2018-02-14   \n4  ES0217010002161818HX  BARCELONA  BADALONA                 2018-03-14   \n5  ES0217010002161818HX  BARCELONA  BADALONA                 2018-04-13   \n6  ES0217010002161818HX  BARCELONA  BADALONA                 2018-05-15   \n7  ES0217010002161818HX  BARCELONA  BADALONA                 2018-06-14   \n8  ES0217010002161818HX  BARCELONA  BADALONA                 2018-07-14   \n9  ES0217010002161818HX  BARCELONA  BADALONA                 2018-08-10   \n\n  Fecha fin Docu. cálculo   Tarifa Tipo Lectura  Indicadores  Consumo kWh ATR  \\\n0              2017-12-31  3.4 GAS     ESTIMADA          NaN             7237   \n1              2018-01-12  3.4 GAS         REAL          NaN            63714   \n2              2018-02-13  3.4 GAS         REAL          NaN            90071   \n3              2018-03-13  3.4 GAS         REAL          NaN            74947   \n4              2018-04-12  3.4 GAS         REAL          NaN            67338   \n5              2018-05-14  3.4 GAS         REAL          NaN            42883   \n6              2018-06-13  3.4 GAS         REAL          NaN            24175   \n7              2018-07-13  3.4 GAS         REAL          NaN            18104   \n8              2018-08-09  3.4 GAS         REAL          NaN            14070   \n9              2018-09-17  3.4 GAS         REAL          NaN            21864   \n\n   Consumo kWh GLP  Consumo Kg  \n0                0         0.0  \n1                0         0.0  \n2                0         0.0  \n3                0         0.0  \n4                0         0.0  \n5                0         0.0  \n6                0         0.0  \n7                0         0.0  \n8                0         0.0  \n9                0         0.0  ",
      "text/html": "<div>\n<style scoped>\n    .dataframe tbody tr th:only-of-type {\n        vertical-align: middle;\n    }\n\n    .dataframe tbody tr th {\n        vertical-align: top;\n    }\n\n    .dataframe thead th {\n        text-align: right;\n    }\n</style>\n<table border=\"1\" class=\"dataframe\">\n  <thead>\n    <tr style=\"text-align: right;\">\n      <th></th>\n      <th>CUPS</th>\n      <th>EG2</th>\n      <th>EG3</th>\n      <th>Fecha inicio Docu. cálculo</th>\n      <th>Fecha fin Docu. cálculo</th>\n      <th>Tarifa</th>\n      <th>Tipo Lectura</th>\n      <th>Indicadores</th>\n      <th>Consumo kWh ATR</th>\n      <th>Consumo kWh GLP</th>\n      <th>Consumo Kg</th>\n    </tr>\n  </thead>\n  <tbody>\n    <tr>\n      <th>0</th>\n      <td>ES0217010002161818HX</td>\n      <td>BARCELONA</td>\n      <td>BADALONA</td>\n      <td>2017-12-16</td>\n      <td>2017-12-31</td>\n      <td>3.4 GAS</td>\n      <td>ESTIMADA</td>\n      <td>NaN</td>\n      <td>7237</td>\n      <td>0</td>\n      <td>0.0</td>\n    </tr>\n    <tr>\n      <th>1</th>\n      <td>ES0217010002161818HX</td>\n      <td>BARCELONA</td>\n      <td>BADALONA</td>\n      <td>2018-01-01</td>\n      <td>2018-01-12</td>\n      <td>3.4 GAS</td>\n      <td>REAL</td>\n      <td>NaN</td>\n      <td>63714</td>\n      <td>0</td>\n      <td>0.0</td>\n    </tr>\n    <tr>\n      <th>2</th>\n      <td>ES0217010002161818HX</td>\n      <td>BARCELONA</td>\n      <td>BADALONA</td>\n      <td>2018-01-13</td>\n      <td>2018-02-13</td>\n      <td>3.4 GAS</td>\n      <td>REAL</td>\n      <td>NaN</td>\n      <td>90071</td>\n      <td>0</td>\n      <td>0.0</td>\n    </tr>\n    <tr>\n      <th>3</th>\n      <td>ES0217010002161818HX</td>\n      <td>BARCELONA</td>\n      <td>BADALONA</td>\n      <td>2018-02-14</td>\n      <td>2018-03-13</td>\n      <td>3.4 GAS</td>\n      <td>REAL</td>\n      <td>NaN</td>\n      <td>74947</td>\n      <td>0</td>\n      <td>0.0</td>\n    </tr>\n    <tr>\n      <th>4</th>\n      <td>ES0217010002161818HX</td>\n      <td>BARCELONA</td>\n      <td>BADALONA</td>\n      <td>2018-03-14</td>\n      <td>2018-04-12</td>\n      <td>3.4 GAS</td>\n      <td>REAL</td>\n      <td>NaN</td>\n      <td>67338</td>\n      <td>0</td>\n      <td>0.0</td>\n    </tr>\n    <tr>\n      <th>5</th>\n      <td>ES0217010002161818HX</td>\n      <td>BARCELONA</td>\n      <td>BADALONA</td>\n      <td>2018-04-13</td>\n      <td>2018-05-14</td>\n      <td>3.4 GAS</td>\n      <td>REAL</td>\n      <td>NaN</td>\n      <td>42883</td>\n      <td>0</td>\n      <td>0.0</td>\n    </tr>\n    <tr>\n      <th>6</th>\n      <td>ES0217010002161818HX</td>\n      <td>BARCELONA</td>\n      <td>BADALONA</td>\n      <td>2018-05-15</td>\n      <td>2018-06-13</td>\n      <td>3.4 GAS</td>\n      <td>REAL</td>\n      <td>NaN</td>\n      <td>24175</td>\n      <td>0</td>\n      <td>0.0</td>\n    </tr>\n    <tr>\n      <th>7</th>\n      <td>ES0217010002161818HX</td>\n      <td>BARCELONA</td>\n      <td>BADALONA</td>\n      <td>2018-06-14</td>\n      <td>2018-07-13</td>\n      <td>3.4 GAS</td>\n      <td>REAL</td>\n      <td>NaN</td>\n      <td>18104</td>\n      <td>0</td>\n      <td>0.0</td>\n    </tr>\n    <tr>\n      <th>8</th>\n      <td>ES0217010002161818HX</td>\n      <td>BARCELONA</td>\n      <td>BADALONA</td>\n      <td>2018-07-14</td>\n      <td>2018-08-09</td>\n      <td>3.4 GAS</td>\n      <td>REAL</td>\n      <td>NaN</td>\n      <td>14070</td>\n      <td>0</td>\n      <td>0.0</td>\n    </tr>\n    <tr>\n      <th>9</th>\n      <td>ES0217010002161818HX</td>\n      <td>BARCELONA</td>\n      <td>BADALONA</td>\n      <td>2018-08-10</td>\n      <td>2018-09-17</td>\n      <td>3.4 GAS</td>\n      <td>REAL</td>\n      <td>NaN</td>\n      <td>21864</td>\n      <td>0</td>\n      <td>0.0</td>\n    </tr>\n  </tbody>\n</table>\n</div>"
     },
     "execution_count": 102,
     "metadata": {},
     "output_type": "execute_result"
    }
   ],
   "source": [
    "df.head(10)"
   ],
   "metadata": {
    "collapsed": false,
    "pycharm": {
     "name": "#%%\n"
    }
   }
  },
  {
   "cell_type": "code",
   "execution_count": 103,
   "outputs": [],
   "source": [
    "df['Fecha fin Docu. cálculo'] += pd.Timedelta(hours=23)\n",
    "\n",
    "df['Fecha inicio Docu. cálculo'] = df['Fecha inicio Docu. cálculo'].dt.tz_localize(tz_info)\n",
    "df['Fecha fin Docu. cálculo'] = df['Fecha fin Docu. cálculo'].dt.tz_localize(tz_info)\n",
    "\n",
    "# datatime64 [ns] to unix time\n",
    "df['measurementStart'] = df['Fecha inicio Docu. cálculo'].astype('int') / 10 ** 9\n",
    "df['measurementStart'] = df['measurementStart'].astype('int')\n",
    "\n",
    "df['measurementEnd'] = df['Fecha fin Docu. cálculo'].astype('int') / 10 ** 9\n",
    "df['measurementEnd'] = df['measurementEnd'].astype('int')\n",
    "df['ts'] = df['measurementStart']\n",
    "\n",
    "# Calculate kWh\n",
    "df['measurementValue'] = df['Consumo kWh ATR'].fillna(0) + df['Consumo kWh GLP'].fillna(0)\n",
    "\n",
    "df = df[['CUPS', 'ts', 'measurementStart', 'measurementEnd', 'measurementValue', 'Tipo Lectura']]"
   ],
   "metadata": {
    "collapsed": false,
    "pycharm": {
     "name": "#%%\n"
    }
   }
  },
  {
   "cell_type": "code",
   "execution_count": 104,
   "outputs": [],
   "source": [
    "def generate_date_range(row):\n",
    "    init_date = datetime.fromtimestamp(row['measurementStart']).date()\n",
    "    end_date = datetime.fromtimestamp(row['measurementEnd']).date()\n",
    "    return pd.date_range(init_date, end_date).strftime(\"%Y-%m-%d\").tolist()\n"
   ],
   "metadata": {
    "collapsed": false,
    "pycharm": {
     "name": "#%%\n"
    }
   }
  },
  {
   "cell_type": "code",
   "execution_count": 128,
   "outputs": [],
   "source": [
    "for cups, sub_df in df.groupby('CUPS'):\n",
    "    sub_df.sort_values(by=['measurementStart'], inplace=True)\n",
    "    min_date = datetime.fromtimestamp(sub_df['measurementStart'].iloc[0]).date()\n",
    "    max_date = datetime.fromtimestamp(sub_df['measurementEnd'].iloc[-1]).date()\n",
    "\n",
    "    main_vect = (min_date, max_date)\n",
    "\n",
    "    # aux_df = sub_df[['measurementStart', 'measurementEnd']].stack().diff(periods=1)\n",
    "\n",
    "    sub_df['date_range'] = sub_df.apply(lambda x: generate_date_range(x), axis=1)\n",
    "\n",
    "    total_range = pd.date_range(min_date, max_date).strftime(\"%Y-%m-%d\").tolist()\n",
    "    invoice_date_range = list(itertools.chain(*sub_df['date_range'].tolist()))\n",
    "\n",
    "    for i in invoice_date_range:\n",
    "        if i in total_range:\n",
    "            total_range.remove(i)\n",
    "\n",
    "    if len(total_range) > 0:\n",
    "        print(total_range)"
   ],
   "metadata": {
    "collapsed": false,
    "pycharm": {
     "name": "#%%\n"
    }
   }
  },
  {
   "cell_type": "code",
   "execution_count": null,
   "outputs": [],
   "source": [],
   "metadata": {
    "collapsed": false,
    "pycharm": {
     "name": "#%%\n"
    }
   }
  }
 ],
 "metadata": {
  "kernelspec": {
   "display_name": "Python 3",
   "language": "python",
   "name": "python3"
  },
  "language_info": {
   "codemirror_mode": {
    "name": "ipython",
    "version": 2
   },
   "file_extension": ".py",
   "mimetype": "text/x-python",
   "name": "python",
   "nbconvert_exporter": "python",
   "pygments_lexer": "ipython2",
   "version": "2.7.6"
  }
 },
 "nbformat": 4,
 "nbformat_minor": 0
}