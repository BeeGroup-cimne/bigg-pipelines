{
 "cells": [
  {
   "cell_type": "code",
   "execution_count": 134,
   "metadata": {
    "collapsed": true
   },
   "outputs": [],
   "source": [
    "# Imports\n",
    "import pandas as pd\n",
    "\n",
    "tz_info = 'Europe/Madrid'"
   ]
  },
  {
   "cell_type": "code",
   "execution_count": 135,
   "outputs": [],
   "source": [
    "df = pd.read_excel('../data/Generalitat Extracción_2018.xlsx', skiprows=2)"
   ],
   "metadata": {
    "collapsed": false,
    "pycharm": {
     "name": "#%%\n"
    }
   }
  },
  {
   "cell_type": "code",
   "execution_count": 136,
   "outputs": [
    {
     "data": {
      "text/plain": "                   CUPS        EG2       EG3 Fecha inicio Docu. cálculo  \\\n0  ES0217010002161818HX  BARCELONA  BADALONA                 2017-12-16   \n1  ES0217010002161818HX  BARCELONA  BADALONA                 2018-01-01   \n2  ES0217010002161818HX  BARCELONA  BADALONA                 2018-01-13   \n3  ES0217010002161818HX  BARCELONA  BADALONA                 2018-02-14   \n4  ES0217010002161818HX  BARCELONA  BADALONA                 2018-03-14   \n5  ES0217010002161818HX  BARCELONA  BADALONA                 2018-04-13   \n6  ES0217010002161818HX  BARCELONA  BADALONA                 2018-05-15   \n7  ES0217010002161818HX  BARCELONA  BADALONA                 2018-06-14   \n8  ES0217010002161818HX  BARCELONA  BADALONA                 2018-07-14   \n9  ES0217010002161818HX  BARCELONA  BADALONA                 2018-08-10   \n\n  Fecha fin Docu. cálculo   Tarifa Tipo Lectura  Indicadores  Consumo kWh ATR  \\\n0              2017-12-31  3.4 GAS     ESTIMADA          NaN             7237   \n1              2018-01-12  3.4 GAS         REAL          NaN            63714   \n2              2018-02-13  3.4 GAS         REAL          NaN            90071   \n3              2018-03-13  3.4 GAS         REAL          NaN            74947   \n4              2018-04-12  3.4 GAS         REAL          NaN            67338   \n5              2018-05-14  3.4 GAS         REAL          NaN            42883   \n6              2018-06-13  3.4 GAS         REAL          NaN            24175   \n7              2018-07-13  3.4 GAS         REAL          NaN            18104   \n8              2018-08-09  3.4 GAS         REAL          NaN            14070   \n9              2018-09-17  3.4 GAS         REAL          NaN            21864   \n\n   Consumo kWh GLP  Consumo Kg  \n0                0         0.0  \n1                0         0.0  \n2                0         0.0  \n3                0         0.0  \n4                0         0.0  \n5                0         0.0  \n6                0         0.0  \n7                0         0.0  \n8                0         0.0  \n9                0         0.0  ",
      "text/html": "<div>\n<style scoped>\n    .dataframe tbody tr th:only-of-type {\n        vertical-align: middle;\n    }\n\n    .dataframe tbody tr th {\n        vertical-align: top;\n    }\n\n    .dataframe thead th {\n        text-align: right;\n    }\n</style>\n<table border=\"1\" class=\"dataframe\">\n  <thead>\n    <tr style=\"text-align: right;\">\n      <th></th>\n      <th>CUPS</th>\n      <th>EG2</th>\n      <th>EG3</th>\n      <th>Fecha inicio Docu. cálculo</th>\n      <th>Fecha fin Docu. cálculo</th>\n      <th>Tarifa</th>\n      <th>Tipo Lectura</th>\n      <th>Indicadores</th>\n      <th>Consumo kWh ATR</th>\n      <th>Consumo kWh GLP</th>\n      <th>Consumo Kg</th>\n    </tr>\n  </thead>\n  <tbody>\n    <tr>\n      <th>0</th>\n      <td>ES0217010002161818HX</td>\n      <td>BARCELONA</td>\n      <td>BADALONA</td>\n      <td>2017-12-16</td>\n      <td>2017-12-31</td>\n      <td>3.4 GAS</td>\n      <td>ESTIMADA</td>\n      <td>NaN</td>\n      <td>7237</td>\n      <td>0</td>\n      <td>0.0</td>\n    </tr>\n    <tr>\n      <th>1</th>\n      <td>ES0217010002161818HX</td>\n      <td>BARCELONA</td>\n      <td>BADALONA</td>\n      <td>2018-01-01</td>\n      <td>2018-01-12</td>\n      <td>3.4 GAS</td>\n      <td>REAL</td>\n      <td>NaN</td>\n      <td>63714</td>\n      <td>0</td>\n      <td>0.0</td>\n    </tr>\n    <tr>\n      <th>2</th>\n      <td>ES0217010002161818HX</td>\n      <td>BARCELONA</td>\n      <td>BADALONA</td>\n      <td>2018-01-13</td>\n      <td>2018-02-13</td>\n      <td>3.4 GAS</td>\n      <td>REAL</td>\n      <td>NaN</td>\n      <td>90071</td>\n      <td>0</td>\n      <td>0.0</td>\n    </tr>\n    <tr>\n      <th>3</th>\n      <td>ES0217010002161818HX</td>\n      <td>BARCELONA</td>\n      <td>BADALONA</td>\n      <td>2018-02-14</td>\n      <td>2018-03-13</td>\n      <td>3.4 GAS</td>\n      <td>REAL</td>\n      <td>NaN</td>\n      <td>74947</td>\n      <td>0</td>\n      <td>0.0</td>\n    </tr>\n    <tr>\n      <th>4</th>\n      <td>ES0217010002161818HX</td>\n      <td>BARCELONA</td>\n      <td>BADALONA</td>\n      <td>2018-03-14</td>\n      <td>2018-04-12</td>\n      <td>3.4 GAS</td>\n      <td>REAL</td>\n      <td>NaN</td>\n      <td>67338</td>\n      <td>0</td>\n      <td>0.0</td>\n    </tr>\n    <tr>\n      <th>5</th>\n      <td>ES0217010002161818HX</td>\n      <td>BARCELONA</td>\n      <td>BADALONA</td>\n      <td>2018-04-13</td>\n      <td>2018-05-14</td>\n      <td>3.4 GAS</td>\n      <td>REAL</td>\n      <td>NaN</td>\n      <td>42883</td>\n      <td>0</td>\n      <td>0.0</td>\n    </tr>\n    <tr>\n      <th>6</th>\n      <td>ES0217010002161818HX</td>\n      <td>BARCELONA</td>\n      <td>BADALONA</td>\n      <td>2018-05-15</td>\n      <td>2018-06-13</td>\n      <td>3.4 GAS</td>\n      <td>REAL</td>\n      <td>NaN</td>\n      <td>24175</td>\n      <td>0</td>\n      <td>0.0</td>\n    </tr>\n    <tr>\n      <th>7</th>\n      <td>ES0217010002161818HX</td>\n      <td>BARCELONA</td>\n      <td>BADALONA</td>\n      <td>2018-06-14</td>\n      <td>2018-07-13</td>\n      <td>3.4 GAS</td>\n      <td>REAL</td>\n      <td>NaN</td>\n      <td>18104</td>\n      <td>0</td>\n      <td>0.0</td>\n    </tr>\n    <tr>\n      <th>8</th>\n      <td>ES0217010002161818HX</td>\n      <td>BARCELONA</td>\n      <td>BADALONA</td>\n      <td>2018-07-14</td>\n      <td>2018-08-09</td>\n      <td>3.4 GAS</td>\n      <td>REAL</td>\n      <td>NaN</td>\n      <td>14070</td>\n      <td>0</td>\n      <td>0.0</td>\n    </tr>\n    <tr>\n      <th>9</th>\n      <td>ES0217010002161818HX</td>\n      <td>BARCELONA</td>\n      <td>BADALONA</td>\n      <td>2018-08-10</td>\n      <td>2018-09-17</td>\n      <td>3.4 GAS</td>\n      <td>REAL</td>\n      <td>NaN</td>\n      <td>21864</td>\n      <td>0</td>\n      <td>0.0</td>\n    </tr>\n  </tbody>\n</table>\n</div>"
     },
     "execution_count": 136,
     "metadata": {},
     "output_type": "execute_result"
    }
   ],
   "source": [
    "df.head(10)"
   ],
   "metadata": {
    "collapsed": false,
    "pycharm": {
     "name": "#%%\n"
    }
   }
  },
  {
   "cell_type": "code",
   "execution_count": 137,
   "outputs": [],
   "source": [
    "# Transform Raw Data\n",
    "\n",
    "df['Fecha fin Docu. cálculo'] += pd.Timedelta(hours=23)\n",
    "\n",
    "df['Fecha inicio Docu. cálculo'] = df['Fecha inicio Docu. cálculo'].dt.tz_localize(tz_info)\n",
    "df['Fecha fin Docu. cálculo'] = df['Fecha fin Docu. cálculo'].dt.tz_localize(tz_info)\n",
    "\n",
    "# datatime64 [ns] to unix time\n",
    "df['measurementStart'] = df['Fecha inicio Docu. cálculo'].astype('int') / 10 ** 9\n",
    "df['measurementStart'] = df['measurementStart'].astype('int')\n",
    "\n",
    "df['measurementEnd'] = df['Fecha fin Docu. cálculo'].astype('int') / 10 ** 9\n",
    "df['measurementEnd'] = df['measurementEnd'].astype('int')\n",
    "df['ts'] = df['measurementStart']\n",
    "\n",
    "# Calculate kWh\n",
    "df['measurementValue'] = df['Consumo kWh ATR'].fillna(0) + df['Consumo kWh GLP'].fillna(0)\n",
    "\n",
    "df = df[['CUPS', 'ts', 'measurementStart', 'measurementEnd', 'measurementValue', 'Tipo Lectura']]"
   ],
   "metadata": {
    "collapsed": false,
    "pycharm": {
     "name": "#%%\n"
    }
   }
  },
  {
   "cell_type": "code",
   "execution_count": 145,
   "outputs": [],
   "source": [
    "# Group by CUPS\n",
    "for cups, sub_df in df.groupby('CUPS'):\n",
    "    sub_df.sort_values(by=['measurementStart'], inplace=True)\n",
    "\n",
    "    # https://towardsdatascience.com/efficiently-iterating-over-rows-in-a-pandas-dataframe-7dd5f9992c01\n",
    "\n",
    "    # Shift\n",
    "    sub_df['measurementStart_shifted'] = sub_df['measurementStart'].shift(-1)\n",
    "    sub_df['measurementStart_shifted'] = sub_df['measurementStart_shifted'].astype('Int64')\n",
    "\n",
    "    # Compare invoices start and end dates\n",
    "    sub_df['is_gap'] = (sub_df['measurementStart_shifted'] - sub_df['measurementEnd']).to_list()\n",
    "\n",
    "    # Find gaps between invoices\n",
    "    sub_df.loc[sub_df[\"is_gap\"] != 3600, \"is_gap\"] = True\n",
    "    sub_df.loc[sub_df[\"is_gap\"] == 3600, \"is_gap\"] = False\n",
    "    sub_df.loc[sub_df[\"measurementStart_shifted\"].isnull(), \"is_gap\"] = False\n",
    "\n",
    "    # Split Dataframes\n",
    "    list_of_dataframes = []\n",
    "    if True in sub_df['is_gap'].unique():\n",
    "\n",
    "        last_status = None\n",
    "        index = None\n",
    "\n",
    "        for row in sub_df.itertuples():\n",
    "\n",
    "            if last_status is None:\n",
    "                index = 0\n",
    "                list_of_dataframes.append([])\n",
    "\n",
    "            if last_status is not None and row.is_gap is True:\n",
    "                index += 1\n",
    "                list_of_dataframes.append([])\n",
    "\n",
    "            if last_status is not None and row.is_gap is False and last_status is True:\n",
    "                index += 1\n",
    "                list_of_dataframes.append([])\n",
    "\n",
    "            list_of_dataframes[index].append(row)\n",
    "            last_status = row.is_gap\n",
    "\n",
    "        for i in range(len(list_of_dataframes)):\n",
    "            new_df = pd.DataFrame(list_of_dataframes[i])\n",
    "            new_df.rename(columns={'_6': 'Tipo Lectura'}, inplace=True)\n",
    "            list_of_dataframes[i] = new_df\n",
    "\n",
    "    else:\n",
    "        list_of_dataframes.append(sub_df)\n"
   ],
   "metadata": {
    "collapsed": false,
    "pycharm": {
     "name": "#%%\n"
    }
   }
  },
  {
   "cell_type": "code",
   "execution_count": 146,
   "outputs": [
    {
     "name": "stdout",
     "output_type": "stream",
     "text": [
      "[   Index                  CUPS          ts  measurementStart  measurementEnd  \\\n",
      "0   4079  ES0230012200026003SG  1513206000        1513206000      1518559200   \n",
      "\n",
      "   measurementValue Tipo Lectura  measurementStart_shifted  is_gap  \n",
      "0             11322         REAL                1518562800   False  ,    Index                  CUPS          ts  measurementStart  measurementEnd  \\\n",
      "0   4080  ES0230012200026003SG  1518562800        1518562800      1518645600   \n",
      "\n",
      "   measurementValue  Tipo Lectura  measurementStart_shifted  is_gap  \n",
      "0                 0  Sin informar                1518562800    True  ,    Index                  CUPS          ts  measurementStart  measurementEnd  \\\n",
      "0   4081  ES0230012200026003SG  1518562800        1518562800      1523653200   \n",
      "\n",
      "   measurementValue Tipo Lectura  measurementStart_shifted  is_gap  \n",
      "0              5782         REAL                1523570400    True  ,    Index                  CUPS          ts  measurementStart  measurementEnd  \\\n",
      "0   4082  ES0230012200026003SG  1523570400        1523570400      1523653200   \n",
      "\n",
      "   measurementValue  Tipo Lectura  measurementStart_shifted  is_gap  \n",
      "0                 0  Sin informar                1523656800   False  ,    Index                  CUPS          ts  measurementStart  measurementEnd  \\\n",
      "0   4083  ES0230012200026003SG  1523656800        1523656800      1528923600   \n",
      "\n",
      "   measurementValue Tipo Lectura  measurementStart_shifted  is_gap  \n",
      "0              2209         REAL                1528840800    True  ,    Index                  CUPS          ts  measurementStart  measurementEnd  \\\n",
      "0   4084  ES0230012200026003SG  1528840800        1528840800      1528923600   \n",
      "\n",
      "   measurementValue  Tipo Lectura  measurementStart_shifted  is_gap  \n",
      "0                 0  Sin informar                1528927200   False  ,    Index                  CUPS          ts  measurementStart  measurementEnd  \\\n",
      "0   4085  ES0230012200026003SG  1528927200        1528927200      1534280400   \n",
      "\n",
      "   measurementValue Tipo Lectura  measurementStart_shifted  is_gap  \n",
      "0                 0         REAL                1534197600    True  ,    Index                  CUPS          ts  measurementStart  measurementEnd  \\\n",
      "0   4086  ES0230012200026003SG  1534197600        1534197600      1534280400   \n",
      "\n",
      "   measurementValue  Tipo Lectura  measurementStart_shifted  is_gap  \n",
      "0                 0  Sin informar                1534284000   False  ,    Index                  CUPS          ts  measurementStart  measurementEnd  \\\n",
      "0   4087  ES0230012200026003SG  1534284000        1534284000      1539810000   \n",
      "\n",
      "   measurementValue Tipo Lectura  measurementStart_shifted  is_gap  \n",
      "0               260     ESTIMADA                1539727200    True  ,    Index                  CUPS          ts  measurementStart  measurementEnd  \\\n",
      "0   4088  ES0230012200026003SG  1539727200        1539727200      1539810000   \n",
      "1   4089  ES0230012200026003SG  1539813600        1539813600      1542060000   \n",
      "2   4090  ES0230012200026003SG  1542063600        1542063600      1542146400   \n",
      "\n",
      "   measurementValue  Tipo Lectura measurementStart_shifted  is_gap  \n",
      "0                 0  Sin informar               1539813600   False  \n",
      "1              1446          REAL               1542063600   False  \n",
      "2                 0  Sin informar                     <NA>   False  ]\n"
     ]
    }
   ],
   "source": [
    "print(list_of_dataframes)"
   ],
   "metadata": {
    "collapsed": false,
    "pycharm": {
     "name": "#%%\n"
    }
   }
  }
 ],
 "metadata": {
  "kernelspec": {
   "display_name": "Python 3",
   "language": "python",
   "name": "python3"
  },
  "language_info": {
   "codemirror_mode": {
    "name": "ipython",
    "version": 2
   },
   "file_extension": ".py",
   "mimetype": "text/x-python",
   "name": "python",
   "nbconvert_exporter": "python",
   "pygments_lexer": "ipython2",
   "version": "2.7.6"
  }
 },
 "nbformat": 4,
 "nbformat_minor": 0
}