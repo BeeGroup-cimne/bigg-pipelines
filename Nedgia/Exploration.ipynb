{
 "cells": [
  {
   "cell_type": "code",
   "execution_count": 35,
   "metadata": {
    "collapsed": true
   },
   "outputs": [],
   "source": [
    "# Imports\n",
    "import pandas as pd\n",
    "from datetime import datetime\n",
    "tz_info = 'Europe/Madrid'"
   ]
  },
  {
   "cell_type": "code",
   "execution_count": 22,
   "outputs": [],
   "source": [
    "df = pd.read_excel('../data/Generalitat Extracción_2018.xlsx', skiprows=2)"
   ],
   "metadata": {
    "collapsed": false,
    "pycharm": {
     "name": "#%%\n"
    }
   }
  },
  {
   "cell_type": "code",
   "execution_count": 23,
   "outputs": [
    {
     "data": {
      "text/plain": "                   CUPS        EG2       EG3 Fecha inicio Docu. cálculo  \\\n0  ES0217010002161818HX  BARCELONA  BADALONA                 2017-12-16   \n1  ES0217010002161818HX  BARCELONA  BADALONA                 2018-01-01   \n2  ES0217010002161818HX  BARCELONA  BADALONA                 2018-01-13   \n3  ES0217010002161818HX  BARCELONA  BADALONA                 2018-02-14   \n4  ES0217010002161818HX  BARCELONA  BADALONA                 2018-03-14   \n5  ES0217010002161818HX  BARCELONA  BADALONA                 2018-04-13   \n6  ES0217010002161818HX  BARCELONA  BADALONA                 2018-05-15   \n7  ES0217010002161818HX  BARCELONA  BADALONA                 2018-06-14   \n8  ES0217010002161818HX  BARCELONA  BADALONA                 2018-07-14   \n9  ES0217010002161818HX  BARCELONA  BADALONA                 2018-08-10   \n\n  Fecha fin Docu. cálculo   Tarifa Tipo Lectura  Indicadores  Consumo kWh ATR  \\\n0              2017-12-31  3.4 GAS     ESTIMADA          NaN             7237   \n1              2018-01-12  3.4 GAS         REAL          NaN            63714   \n2              2018-02-13  3.4 GAS         REAL          NaN            90071   \n3              2018-03-13  3.4 GAS         REAL          NaN            74947   \n4              2018-04-12  3.4 GAS         REAL          NaN            67338   \n5              2018-05-14  3.4 GAS         REAL          NaN            42883   \n6              2018-06-13  3.4 GAS         REAL          NaN            24175   \n7              2018-07-13  3.4 GAS         REAL          NaN            18104   \n8              2018-08-09  3.4 GAS         REAL          NaN            14070   \n9              2018-09-17  3.4 GAS         REAL          NaN            21864   \n\n   Consumo kWh GLP  Consumo Kg  \n0                0         0.0  \n1                0         0.0  \n2                0         0.0  \n3                0         0.0  \n4                0         0.0  \n5                0         0.0  \n6                0         0.0  \n7                0         0.0  \n8                0         0.0  \n9                0         0.0  ",
      "text/html": "<div>\n<style scoped>\n    .dataframe tbody tr th:only-of-type {\n        vertical-align: middle;\n    }\n\n    .dataframe tbody tr th {\n        vertical-align: top;\n    }\n\n    .dataframe thead th {\n        text-align: right;\n    }\n</style>\n<table border=\"1\" class=\"dataframe\">\n  <thead>\n    <tr style=\"text-align: right;\">\n      <th></th>\n      <th>CUPS</th>\n      <th>EG2</th>\n      <th>EG3</th>\n      <th>Fecha inicio Docu. cálculo</th>\n      <th>Fecha fin Docu. cálculo</th>\n      <th>Tarifa</th>\n      <th>Tipo Lectura</th>\n      <th>Indicadores</th>\n      <th>Consumo kWh ATR</th>\n      <th>Consumo kWh GLP</th>\n      <th>Consumo Kg</th>\n    </tr>\n  </thead>\n  <tbody>\n    <tr>\n      <th>0</th>\n      <td>ES0217010002161818HX</td>\n      <td>BARCELONA</td>\n      <td>BADALONA</td>\n      <td>2017-12-16</td>\n      <td>2017-12-31</td>\n      <td>3.4 GAS</td>\n      <td>ESTIMADA</td>\n      <td>NaN</td>\n      <td>7237</td>\n      <td>0</td>\n      <td>0.0</td>\n    </tr>\n    <tr>\n      <th>1</th>\n      <td>ES0217010002161818HX</td>\n      <td>BARCELONA</td>\n      <td>BADALONA</td>\n      <td>2018-01-01</td>\n      <td>2018-01-12</td>\n      <td>3.4 GAS</td>\n      <td>REAL</td>\n      <td>NaN</td>\n      <td>63714</td>\n      <td>0</td>\n      <td>0.0</td>\n    </tr>\n    <tr>\n      <th>2</th>\n      <td>ES0217010002161818HX</td>\n      <td>BARCELONA</td>\n      <td>BADALONA</td>\n      <td>2018-01-13</td>\n      <td>2018-02-13</td>\n      <td>3.4 GAS</td>\n      <td>REAL</td>\n      <td>NaN</td>\n      <td>90071</td>\n      <td>0</td>\n      <td>0.0</td>\n    </tr>\n    <tr>\n      <th>3</th>\n      <td>ES0217010002161818HX</td>\n      <td>BARCELONA</td>\n      <td>BADALONA</td>\n      <td>2018-02-14</td>\n      <td>2018-03-13</td>\n      <td>3.4 GAS</td>\n      <td>REAL</td>\n      <td>NaN</td>\n      <td>74947</td>\n      <td>0</td>\n      <td>0.0</td>\n    </tr>\n    <tr>\n      <th>4</th>\n      <td>ES0217010002161818HX</td>\n      <td>BARCELONA</td>\n      <td>BADALONA</td>\n      <td>2018-03-14</td>\n      <td>2018-04-12</td>\n      <td>3.4 GAS</td>\n      <td>REAL</td>\n      <td>NaN</td>\n      <td>67338</td>\n      <td>0</td>\n      <td>0.0</td>\n    </tr>\n    <tr>\n      <th>5</th>\n      <td>ES0217010002161818HX</td>\n      <td>BARCELONA</td>\n      <td>BADALONA</td>\n      <td>2018-04-13</td>\n      <td>2018-05-14</td>\n      <td>3.4 GAS</td>\n      <td>REAL</td>\n      <td>NaN</td>\n      <td>42883</td>\n      <td>0</td>\n      <td>0.0</td>\n    </tr>\n    <tr>\n      <th>6</th>\n      <td>ES0217010002161818HX</td>\n      <td>BARCELONA</td>\n      <td>BADALONA</td>\n      <td>2018-05-15</td>\n      <td>2018-06-13</td>\n      <td>3.4 GAS</td>\n      <td>REAL</td>\n      <td>NaN</td>\n      <td>24175</td>\n      <td>0</td>\n      <td>0.0</td>\n    </tr>\n    <tr>\n      <th>7</th>\n      <td>ES0217010002161818HX</td>\n      <td>BARCELONA</td>\n      <td>BADALONA</td>\n      <td>2018-06-14</td>\n      <td>2018-07-13</td>\n      <td>3.4 GAS</td>\n      <td>REAL</td>\n      <td>NaN</td>\n      <td>18104</td>\n      <td>0</td>\n      <td>0.0</td>\n    </tr>\n    <tr>\n      <th>8</th>\n      <td>ES0217010002161818HX</td>\n      <td>BARCELONA</td>\n      <td>BADALONA</td>\n      <td>2018-07-14</td>\n      <td>2018-08-09</td>\n      <td>3.4 GAS</td>\n      <td>REAL</td>\n      <td>NaN</td>\n      <td>14070</td>\n      <td>0</td>\n      <td>0.0</td>\n    </tr>\n    <tr>\n      <th>9</th>\n      <td>ES0217010002161818HX</td>\n      <td>BARCELONA</td>\n      <td>BADALONA</td>\n      <td>2018-08-10</td>\n      <td>2018-09-17</td>\n      <td>3.4 GAS</td>\n      <td>REAL</td>\n      <td>NaN</td>\n      <td>21864</td>\n      <td>0</td>\n      <td>0.0</td>\n    </tr>\n  </tbody>\n</table>\n</div>"
     },
     "execution_count": 23,
     "metadata": {},
     "output_type": "execute_result"
    }
   ],
   "source": [
    "df.head(10)"
   ],
   "metadata": {
    "collapsed": false,
    "pycharm": {
     "name": "#%%\n"
    }
   }
  },
  {
   "cell_type": "code",
   "execution_count": 24,
   "outputs": [],
   "source": [
    "df['Fecha fin Docu. cálculo'] += pd.Timedelta(hours=23)\n",
    "\n",
    "df['Fecha inicio Docu. cálculo'] = df['Fecha inicio Docu. cálculo'].dt.tz_localize(tz_info)\n",
    "df['Fecha fin Docu. cálculo'] = df['Fecha fin Docu. cálculo'].dt.tz_localize(tz_info)\n",
    "\n",
    "# datatime64 [ns] to unix time\n",
    "df['measurementStart'] = df['Fecha inicio Docu. cálculo'].astype('int') / 10 ** 9\n",
    "df['measurementStart'] = df['measurementStart'].astype('int')\n",
    "\n",
    "df['measurementEnd'] = df['Fecha fin Docu. cálculo'].astype('int') / 10 ** 9\n",
    "df['measurementEnd'] = df['measurementEnd'].astype('int')\n",
    "df['ts'] = df['measurementStart']\n",
    "\n",
    "# Calculate kWh\n",
    "df['measurementValue'] = df['Consumo kWh ATR'].fillna(0) + df['Consumo kWh GLP'].fillna(0)\n",
    "\n",
    "df = df[['CUPS', 'ts', 'measurementStart', 'measurementEnd', 'measurementValue', 'Tipo Lectura']]"
   ],
   "metadata": {
    "collapsed": false,
    "pycharm": {
     "name": "#%%\n"
    }
   }
  },
  {
   "cell_type": "code",
   "execution_count": 36,
   "outputs": [
    {
     "ename": "TypeError",
     "evalue": "descriptor 'timestamp' for 'datetime.datetime' objects doesn't apply to a 'numpy.int64' object",
     "output_type": "error",
     "traceback": [
      "\u001B[0;31m---------------------------------------------------------------------------\u001B[0m",
      "\u001B[0;31mTypeError\u001B[0m                                 Traceback (most recent call last)",
      "Input \u001B[0;32mIn [36]\u001B[0m, in \u001B[0;36m<cell line: 1>\u001B[0;34m()\u001B[0m\n\u001B[1;32m      3\u001B[0m min_date \u001B[38;5;241m=\u001B[39m df[\u001B[38;5;124m'\u001B[39m\u001B[38;5;124mmeasurementStart\u001B[39m\u001B[38;5;124m'\u001B[39m]\u001B[38;5;241m.\u001B[39miloc[\u001B[38;5;241m0\u001B[39m]\n\u001B[1;32m      4\u001B[0m max_date \u001B[38;5;241m=\u001B[39m df[\u001B[38;5;124m'\u001B[39m\u001B[38;5;124mmeasurementEnd\u001B[39m\u001B[38;5;124m'\u001B[39m]\u001B[38;5;241m.\u001B[39miloc[\u001B[38;5;241m-\u001B[39m\u001B[38;5;241m1\u001B[39m]\n\u001B[0;32m----> 5\u001B[0m \u001B[38;5;28mprint\u001B[39m(\u001B[43mdatetime\u001B[49m\u001B[38;5;241;43m.\u001B[39;49m\u001B[43mtimestamp\u001B[49m\u001B[43m(\u001B[49m\u001B[43mmin_date\u001B[49m\u001B[43m)\u001B[49m)\n\u001B[1;32m      6\u001B[0m \u001B[38;5;28mprint\u001B[39m(datetime\u001B[38;5;241m.\u001B[39mtimestamp(max_date))\n",
      "\u001B[0;31mTypeError\u001B[0m: descriptor 'timestamp' for 'datetime.datetime' objects doesn't apply to a 'numpy.int64' object"
     ]
    }
   ],
   "source": [
    "for cups, sub_df in df.groupby('CUPS'):\n",
    "    sub_df.sort_values(by=['measurementStart'], inplace=True)\n",
    "    min_date = df['measurementStart'].iloc[0]\n",
    "    max_date = df['measurementEnd'].iloc[-1]\n",
    "    print(datetime.timestamp(min_date))\n",
    "    print(datetime.timestamp(max_date))"
   ],
   "metadata": {
    "collapsed": false,
    "pycharm": {
     "name": "#%%\n"
    }
   }
  },
  {
   "cell_type": "code",
   "execution_count": 25,
   "outputs": [],
   "source": [],
   "metadata": {
    "collapsed": false,
    "pycharm": {
     "name": "#%%\n"
    }
   }
  }
 ],
 "metadata": {
  "kernelspec": {
   "display_name": "Python 3",
   "language": "python",
   "name": "python3"
  },
  "language_info": {
   "codemirror_mode": {
    "name": "ipython",
    "version": 2
   },
   "file_extension": ".py",
   "mimetype": "text/x-python",
   "name": "python",
   "nbconvert_exporter": "python",
   "pygments_lexer": "ipython2",
   "version": "2.7.6"
  }
 },
 "nbformat": 4,
 "nbformat_minor": 0
}