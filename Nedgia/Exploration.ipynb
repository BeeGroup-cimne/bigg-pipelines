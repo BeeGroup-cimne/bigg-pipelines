{
 "cells": [
  {
   "cell_type": "code",
   "execution_count": 64,
   "metadata": {
    "collapsed": true
   },
   "outputs": [],
   "source": [
    "# Imports\n",
    "import pandas as pd\n",
    "\n",
    "tz_info = 'Europe/Madrid'"
   ]
  },
  {
   "cell_type": "code",
   "execution_count": 65,
   "outputs": [],
   "source": [
    "df = pd.read_excel('../data/Generalitat Extracción_2018.xlsx', skiprows=2)"
   ],
   "metadata": {
    "collapsed": false,
    "pycharm": {
     "name": "#%%\n"
    }
   }
  },
  {
   "cell_type": "code",
   "execution_count": 66,
   "outputs": [
    {
     "data": {
      "text/plain": "                   CUPS        EG2       EG3 Fecha inicio Docu. cálculo  \\\n0  ES0217010002161818HX  BARCELONA  BADALONA                 2017-12-16   \n1  ES0217010002161818HX  BARCELONA  BADALONA                 2018-01-01   \n2  ES0217010002161818HX  BARCELONA  BADALONA                 2018-01-13   \n3  ES0217010002161818HX  BARCELONA  BADALONA                 2018-02-14   \n4  ES0217010002161818HX  BARCELONA  BADALONA                 2018-03-14   \n5  ES0217010002161818HX  BARCELONA  BADALONA                 2018-04-13   \n6  ES0217010002161818HX  BARCELONA  BADALONA                 2018-05-15   \n7  ES0217010002161818HX  BARCELONA  BADALONA                 2018-06-14   \n8  ES0217010002161818HX  BARCELONA  BADALONA                 2018-07-14   \n9  ES0217010002161818HX  BARCELONA  BADALONA                 2018-08-10   \n\n  Fecha fin Docu. cálculo   Tarifa Tipo Lectura  Indicadores  Consumo kWh ATR  \\\n0              2017-12-31  3.4 GAS     ESTIMADA          NaN             7237   \n1              2018-01-12  3.4 GAS         REAL          NaN            63714   \n2              2018-02-13  3.4 GAS         REAL          NaN            90071   \n3              2018-03-13  3.4 GAS         REAL          NaN            74947   \n4              2018-04-12  3.4 GAS         REAL          NaN            67338   \n5              2018-05-14  3.4 GAS         REAL          NaN            42883   \n6              2018-06-13  3.4 GAS         REAL          NaN            24175   \n7              2018-07-13  3.4 GAS         REAL          NaN            18104   \n8              2018-08-09  3.4 GAS         REAL          NaN            14070   \n9              2018-09-17  3.4 GAS         REAL          NaN            21864   \n\n   Consumo kWh GLP  Consumo Kg  \n0                0         0.0  \n1                0         0.0  \n2                0         0.0  \n3                0         0.0  \n4                0         0.0  \n5                0         0.0  \n6                0         0.0  \n7                0         0.0  \n8                0         0.0  \n9                0         0.0  ",
      "text/html": "<div>\n<style scoped>\n    .dataframe tbody tr th:only-of-type {\n        vertical-align: middle;\n    }\n\n    .dataframe tbody tr th {\n        vertical-align: top;\n    }\n\n    .dataframe thead th {\n        text-align: right;\n    }\n</style>\n<table border=\"1\" class=\"dataframe\">\n  <thead>\n    <tr style=\"text-align: right;\">\n      <th></th>\n      <th>CUPS</th>\n      <th>EG2</th>\n      <th>EG3</th>\n      <th>Fecha inicio Docu. cálculo</th>\n      <th>Fecha fin Docu. cálculo</th>\n      <th>Tarifa</th>\n      <th>Tipo Lectura</th>\n      <th>Indicadores</th>\n      <th>Consumo kWh ATR</th>\n      <th>Consumo kWh GLP</th>\n      <th>Consumo Kg</th>\n    </tr>\n  </thead>\n  <tbody>\n    <tr>\n      <th>0</th>\n      <td>ES0217010002161818HX</td>\n      <td>BARCELONA</td>\n      <td>BADALONA</td>\n      <td>2017-12-16</td>\n      <td>2017-12-31</td>\n      <td>3.4 GAS</td>\n      <td>ESTIMADA</td>\n      <td>NaN</td>\n      <td>7237</td>\n      <td>0</td>\n      <td>0.0</td>\n    </tr>\n    <tr>\n      <th>1</th>\n      <td>ES0217010002161818HX</td>\n      <td>BARCELONA</td>\n      <td>BADALONA</td>\n      <td>2018-01-01</td>\n      <td>2018-01-12</td>\n      <td>3.4 GAS</td>\n      <td>REAL</td>\n      <td>NaN</td>\n      <td>63714</td>\n      <td>0</td>\n      <td>0.0</td>\n    </tr>\n    <tr>\n      <th>2</th>\n      <td>ES0217010002161818HX</td>\n      <td>BARCELONA</td>\n      <td>BADALONA</td>\n      <td>2018-01-13</td>\n      <td>2018-02-13</td>\n      <td>3.4 GAS</td>\n      <td>REAL</td>\n      <td>NaN</td>\n      <td>90071</td>\n      <td>0</td>\n      <td>0.0</td>\n    </tr>\n    <tr>\n      <th>3</th>\n      <td>ES0217010002161818HX</td>\n      <td>BARCELONA</td>\n      <td>BADALONA</td>\n      <td>2018-02-14</td>\n      <td>2018-03-13</td>\n      <td>3.4 GAS</td>\n      <td>REAL</td>\n      <td>NaN</td>\n      <td>74947</td>\n      <td>0</td>\n      <td>0.0</td>\n    </tr>\n    <tr>\n      <th>4</th>\n      <td>ES0217010002161818HX</td>\n      <td>BARCELONA</td>\n      <td>BADALONA</td>\n      <td>2018-03-14</td>\n      <td>2018-04-12</td>\n      <td>3.4 GAS</td>\n      <td>REAL</td>\n      <td>NaN</td>\n      <td>67338</td>\n      <td>0</td>\n      <td>0.0</td>\n    </tr>\n    <tr>\n      <th>5</th>\n      <td>ES0217010002161818HX</td>\n      <td>BARCELONA</td>\n      <td>BADALONA</td>\n      <td>2018-04-13</td>\n      <td>2018-05-14</td>\n      <td>3.4 GAS</td>\n      <td>REAL</td>\n      <td>NaN</td>\n      <td>42883</td>\n      <td>0</td>\n      <td>0.0</td>\n    </tr>\n    <tr>\n      <th>6</th>\n      <td>ES0217010002161818HX</td>\n      <td>BARCELONA</td>\n      <td>BADALONA</td>\n      <td>2018-05-15</td>\n      <td>2018-06-13</td>\n      <td>3.4 GAS</td>\n      <td>REAL</td>\n      <td>NaN</td>\n      <td>24175</td>\n      <td>0</td>\n      <td>0.0</td>\n    </tr>\n    <tr>\n      <th>7</th>\n      <td>ES0217010002161818HX</td>\n      <td>BARCELONA</td>\n      <td>BADALONA</td>\n      <td>2018-06-14</td>\n      <td>2018-07-13</td>\n      <td>3.4 GAS</td>\n      <td>REAL</td>\n      <td>NaN</td>\n      <td>18104</td>\n      <td>0</td>\n      <td>0.0</td>\n    </tr>\n    <tr>\n      <th>8</th>\n      <td>ES0217010002161818HX</td>\n      <td>BARCELONA</td>\n      <td>BADALONA</td>\n      <td>2018-07-14</td>\n      <td>2018-08-09</td>\n      <td>3.4 GAS</td>\n      <td>REAL</td>\n      <td>NaN</td>\n      <td>14070</td>\n      <td>0</td>\n      <td>0.0</td>\n    </tr>\n    <tr>\n      <th>9</th>\n      <td>ES0217010002161818HX</td>\n      <td>BARCELONA</td>\n      <td>BADALONA</td>\n      <td>2018-08-10</td>\n      <td>2018-09-17</td>\n      <td>3.4 GAS</td>\n      <td>REAL</td>\n      <td>NaN</td>\n      <td>21864</td>\n      <td>0</td>\n      <td>0.0</td>\n    </tr>\n  </tbody>\n</table>\n</div>"
     },
     "execution_count": 66,
     "metadata": {},
     "output_type": "execute_result"
    }
   ],
   "source": [
    "df.head(10)"
   ],
   "metadata": {
    "collapsed": false,
    "pycharm": {
     "name": "#%%\n"
    }
   }
  },
  {
   "cell_type": "code",
   "execution_count": 67,
   "outputs": [],
   "source": [
    "# Transform Raw Data\n",
    "\n",
    "df['Fecha fin Docu. cálculo'] += pd.Timedelta(hours=23)\n",
    "\n",
    "df['Fecha inicio Docu. cálculo'] = df['Fecha inicio Docu. cálculo'].dt.tz_localize(tz_info)\n",
    "df['Fecha fin Docu. cálculo'] = df['Fecha fin Docu. cálculo'].dt.tz_localize(tz_info)\n",
    "\n",
    "# datatime64 [ns] to unix time\n",
    "df['measurementStart'] = df['Fecha inicio Docu. cálculo'].astype('int') / 10 ** 9\n",
    "df['measurementStart'] = df['measurementStart'].astype('int')\n",
    "\n",
    "df['measurementEnd'] = df['Fecha fin Docu. cálculo'].astype('int') / 10 ** 9\n",
    "df['measurementEnd'] = df['measurementEnd'].astype('int')\n",
    "df['ts'] = df['measurementStart']\n",
    "\n",
    "# Calculate kWh\n",
    "df['measurementValue'] = df['Consumo kWh ATR'].fillna(0) + df['Consumo kWh GLP'].fillna(0)\n",
    "\n",
    "df = df[['CUPS', 'ts', 'measurementStart', 'measurementEnd', 'measurementValue', 'Tipo Lectura']]"
   ],
   "metadata": {
    "collapsed": false,
    "pycharm": {
     "name": "#%%\n"
    }
   }
  },
  {
   "cell_type": "code",
   "execution_count": 93,
   "outputs": [
    {
     "name": "stdout",
     "output_type": "stream",
     "text": [
      "     measurementStart  measurementEnd  measurementStart_shifted is_gap\n",
      "449        1505340000      1507928400                1507932000  False\n",
      "450        1507932000      1510351200                1510354800  False\n",
      "451        1510354800      1513375200                1513378800  False\n",
      "452        1513378800      1514757600                1514761200  False\n",
      "453        1514761200      1516053600                1514761200   True\n",
      "454        1514761200      1516053600                1516057200  False\n",
      "455        1516057200      1518472800                1518476400  False\n",
      "456        1518476400      1523394000                1523397600  False\n",
      "457        1523397600      1528405200                1528408800  False\n",
      "458        1528408800      1533762000                1533765600  False\n",
      "459        1533765600      1539205200                1539208800  False\n",
      "460        1539208800      1544565600                      <NA>  False\n",
      "     measurementStart  measurementEnd  measurementStart_shifted is_gap\n",
      "487        1512082800      1514757600                1512082800   True\n",
      "488        1512082800      1514757600                1514761200  False\n",
      "489        1514761200      1515016800                1515020400  False\n",
      "490        1515020400      1517522400                1517526000  False\n",
      "491        1517526000      1520287200                1520290800  False\n",
      "492        1520290800      1522875600                1522879200  False\n",
      "493        1522879200      1525381200                1525384800  False\n",
      "494        1525384800      1528232400                1528236000  False\n",
      "495        1528236000      1530910800                1530914400  False\n",
      "496        1530914400      1533330000                1533333600  False\n",
      "497        1533333600      1536267600                1536271200  False\n",
      "498        1536271200      1538773200                1538776800  False\n",
      "499        1538776800      1541541600                1541545200  False\n",
      "500        1541545200      1544047200                      <NA>  False\n",
      "     measurementStart  measurementEnd  measurementStart_shifted is_gap\n",
      "521        1510700400      1513634400                1513638000  False\n",
      "522        1513638000      1514757600                1513638000   True\n",
      "523        1513638000      1514757600                1514761200  False\n",
      "524        1514761200      1516226400                1516230000  False\n",
      "525        1516230000      1518818400                1518822000  False\n",
      "526        1518822000      1521496800                1521500400  False\n",
      "527        1521500400      1524085200                1524088800  False\n",
      "528        1524088800      1526418000                1526421600  False\n",
      "529        1526421600      1529355600                1529359200  False\n",
      "530        1529359200      1531861200                1531864800  False\n",
      "531        1531864800      1534798800                1534802400  False\n",
      "532        1534802400      1537304400                1537308000  False\n",
      "533        1537308000      1539810000                1539813600  False\n",
      "534        1539813600      1542405600                1542409200  False\n",
      "535        1542409200      1544997600                      <NA>  False\n",
      "     measurementStart  measurementEnd  measurementStart_shifted is_gap\n",
      "728        1511996400      1514757600                1514761200  False\n",
      "729        1514761200      1517522400                1517526000  False\n",
      "730        1517526000      1522789200                1522792800  False\n",
      "731        1522792800      1527714000                1527717600  False\n",
      "732        1527717600      1532984400                1532988000  False\n",
      "733        1532988000      1538773200                1538776800  False\n",
      "734        1538776800      1543442400                1538776800   True\n",
      "735        1538776800      1543442400                      <NA>  False\n",
      "      measurementStart  measurementEnd  measurementStart_shifted is_gap\n",
      "1225        1512428400      1514757600                1512428400   True\n",
      "1226        1512428400      1514757600                1514761200  False\n",
      "1227        1514761200      1515189600                1515193200  False\n",
      "1228        1515193200      1517522400                1517526000  False\n",
      "1229        1517526000      1520373600                1520377200  False\n",
      "1230        1520377200      1522875600                1522879200  False\n",
      "1231        1522879200      1525813200                1525816800  False\n",
      "1232        1525816800      1528405200                1528408800  False\n",
      "1233        1528408800      1530651600                1530655200  False\n",
      "1234        1530655200      1533070800                1533074400  False\n",
      "1235        1533074400      1536008400                1536012000  False\n",
      "1236        1536012000      1538514000                1538517600  False\n",
      "1237        1538517600      1541196000                1541199600  False\n",
      "1238        1541199600      1543960800                      <NA>  False\n",
      "      measurementStart  measurementEnd  measurementStart_shifted is_gap\n",
      "1481        1513206000      1514757600                1514761200  False\n",
      "1482        1514761200      1515189600                1515193200  False\n",
      "1483        1515193200      1518127200                1518130800  False\n",
      "1484        1518130800      1521151200                1521154800  False\n",
      "1485        1521154800      1523912400                1523916000  False\n",
      "1486        1523916000      1526331600                1526335200  False\n",
      "1487        1526335200      1528750800                1528754400  False\n",
      "1488        1528754400      1531515600                1528754400   True\n",
      "1489        1528754400      1531515600                1531519200  False\n",
      "1490        1531519200      1534280400                1534284000  False\n",
      "1491        1534284000      1536786000                1536789600  False\n",
      "1492        1536789600      1539032400                1539036000  False\n",
      "1493        1539036000      1542060000                1542063600  False\n",
      "1494        1542063600      1544047200                      <NA>  False\n",
      "      measurementStart  measurementEnd  measurementStart_shifted is_gap\n",
      "1676        1513378800      1514757600                1514761200  False\n",
      "1677        1514761200      1516226400                1516230000  False\n",
      "1678        1516230000      1519250400                1519254000  False\n",
      "1679        1519254000      1521669600                1521673200  False\n",
      "1680        1521673200      1523998800                1524002400  False\n",
      "1681        1524002400      1526677200                1526680800  False\n",
      "1682        1526680800      1529701200                1529704800  False\n",
      "1683        1529704800      1532034000                1532037600  False\n",
      "1684        1532037600      1537563600                1532037600   True\n",
      "1685        1532037600      1537563600                1537567200  False\n",
      "1686        1537567200      1542664800                      <NA>  False\n",
      "      measurementStart  measurementEnd  measurementStart_shifted is_gap\n",
      "1772        1513033200      1514757600                1513033200   True\n",
      "1773        1513033200      1514757600                1514761200  False\n",
      "1774        1514761200      1515189600                1515193200  False\n",
      "1775        1515193200      1518127200                1518130800  False\n",
      "1776        1518130800      1520892000                1520895600  False\n",
      "1777        1520895600      1523480400                1523484000  False\n",
      "1778        1523484000      1525899600                1525903200  False\n",
      "1779        1525903200      1528837200                1528840800  False\n",
      "1780        1528840800      1531429200                1531432800  False\n",
      "1781        1531432800      1534971600                1534975200  False\n",
      "1782        1534975200      1540587600                      <NA>  False\n",
      "      measurementStart  measurementEnd  measurementStart_shifted is_gap\n",
      "1822        1511996400      1514757600                1514761200  False\n",
      "1823        1514761200      1515103200                1514761200   True\n",
      "1824        1514761200      1517954400                1517958000  False\n",
      "1825        1517958000      1520373600                1520377200  False\n",
      "1826        1520377200      1522789200                1522792800  False\n",
      "1827        1522792800      1525726800                1525730400  False\n",
      "1828        1525730400      1528232400                1528236000  False\n",
      "1829        1528236000      1530651600                1530655200  False\n",
      "1830        1530655200      1533070800                1533074400  False\n",
      "1831        1533074400      1536267600                1536271200  False\n",
      "1832        1536271200      1538168400                1538172000  False\n",
      "1833        1538172000      1541541600                1541545200  False\n",
      "1834        1541545200      1544220000                      <NA>  False\n",
      "      measurementStart  measurementEnd  measurementStart_shifted is_gap\n",
      "2321        1513638000      1514757600                1514761200  False\n",
      "2322        1514761200      1516399200                1516402800  False\n",
      "2323        1516402800      1519164000                1519167600  False\n",
      "2324        1519167600      1521669600                1521673200  False\n",
      "2325        1521673200      1524085200                1524088800  False\n",
      "2326        1524088800      1527022800                1527026400  False\n",
      "2327        1527026400      1529442000                1529445600  False\n",
      "2328        1529445600      1532552400                1529445600   True\n",
      "2329        1529445600      1532552400                1532556000  False\n",
      "2330        1532556000      1537909200                1532556000   True\n",
      "2331        1532556000      1537909200                1537912800  False\n",
      "2332        1537912800      1542924000                      <NA>  False\n",
      "      measurementStart  measurementEnd  measurementStart_shifted is_gap\n",
      "2608        1512169200      1514757600                1512169200   True\n",
      "2609        1512169200      1514757600                1514761200  False\n",
      "2610        1514761200      1514930400                1514934000  False\n",
      "2611        1514934000      1518040800                1518044400  False\n",
      "2612        1518044400      1519941600                1519945200  False\n",
      "2613        1519945200      1523048400                1523052000  False\n",
      "2614        1523052000      1525726800                1525730400  False\n",
      "2615        1525730400      1527886800                1527890400  False\n",
      "2616        1527890400      1530565200                1530568800  False\n",
      "2617        1530568800      1533243600                1533247200  False\n",
      "2618        1533247200      1535749200                1535752800  False\n",
      "2619        1535752800      1538514000                1538517600  False\n",
      "2620        1538517600      1541455200                1541458800  False\n",
      "2621        1541458800      1544220000                      <NA>  False\n",
      "      measurementStart  measurementEnd  measurementStart_shifted is_gap\n",
      "2720        1509663600      1514757600                1509663600   True\n",
      "2721        1509663600      1514757600                1514761200  False\n",
      "2722        1514761200      1515189600                1515193200  False\n",
      "2723        1515193200      1520028000                1520031600  False\n",
      "2724        1520031600      1525294800                1525298400  False\n",
      "2725        1525298400      1530651600                1530655200  False\n",
      "2726        1530655200      1536008400                1536012000  False\n",
      "2727        1536012000      1540850400                      <NA>  False\n",
      "      measurementStart  measurementEnd  measurementStart_shifted is_gap\n",
      "3376        1512169200      1514757600                1512169200   True\n",
      "3377        1512169200      1514757600                1514761200  False\n",
      "3378        1514761200      1515016800                1515020400  False\n",
      "3379        1515020400      1517954400                1517958000  False\n",
      "3380        1517958000      1520028000                1520031600  False\n",
      "3381        1520031600      1522875600                1522879200  False\n",
      "3382        1522879200      1525381200                1525384800  False\n",
      "3383        1525384800      1528232400                1528236000  False\n",
      "3384        1528236000      1530738000                1530741600  False\n",
      "3385        1530741600      1533157200                1533160800  False\n",
      "3386        1533160800      1536267600                1536271200  False\n",
      "3387        1536271200      1538686800                1538690400  False\n",
      "3388        1538690400      1541541600                1541545200  False\n",
      "3389        1541545200      1544047200                      <NA>  False\n",
      "      measurementStart  measurementEnd  measurementStart_shifted is_gap\n",
      "4079        1513206000      1518559200                1518562800  False\n",
      "4080        1518562800      1518645600                1518562800   True\n",
      "4081        1518562800      1523653200                1523570400   True\n",
      "4082        1523570400      1523653200                1523656800  False\n",
      "4083        1523656800      1528923600                1528840800   True\n",
      "4084        1528840800      1528923600                1528927200  False\n",
      "4085        1528927200      1534280400                1534197600   True\n",
      "4086        1534197600      1534280400                1534284000  False\n",
      "4087        1534284000      1539810000                1539727200   True\n",
      "4088        1539727200      1539810000                1539813600  False\n",
      "4089        1539813600      1542060000                1542063600  False\n",
      "4090        1542063600      1542146400                      <NA>  False\n"
     ]
    }
   ],
   "source": [
    "# Group by CUPS\n",
    "for cups, sub_df in df.groupby('CUPS'):\n",
    "    sub_df.sort_values(by=['measurementStart'], inplace=True)\n",
    "\n",
    "    # https://towardsdatascience.com/efficiently-iterating-over-rows-in-a-pandas-dataframe-7dd5f9992c01\n",
    "\n",
    "    # Shift\n",
    "    sub_df['measurementStart_shifted'] = sub_df['measurementStart'].shift(-1)\n",
    "    sub_df['measurementStart_shifted'] = sub_df['measurementStart_shifted'].astype('Int64')\n",
    "\n",
    "    # Compare invoices start and end dates\n",
    "    sub_df['is_gap'] = (sub_df['measurementStart_shifted'] - sub_df['measurementEnd']).to_list()\n",
    "\n",
    "    # Find gaps between invoices\n",
    "    sub_df.loc[sub_df[\"is_gap\"] != 3600, \"is_gap\"] = True\n",
    "    sub_df.loc[sub_df[\"is_gap\"] == 3600, \"is_gap\"] = False\n",
    "    sub_df.loc[sub_df[\"measurementStart_shifted\"].isnull(), \"is_gap\"] = False\n",
    "\n",
    "    # Split Dataframes\n",
    "    if True in sub_df['is_gap'].unique():\n",
    "        print(sub_df[['measurementStart','measurementEnd','measurementStart_shifted','is_gap']])\n",
    "\n"
   ],
   "metadata": {
    "collapsed": false,
    "pycharm": {
     "name": "#%%\n"
    }
   }
  },
  {
   "cell_type": "code",
   "execution_count": 68,
   "outputs": [],
   "source": [],
   "metadata": {
    "collapsed": false,
    "pycharm": {
     "name": "#%%\n"
    }
   }
  }
 ],
 "metadata": {
  "kernelspec": {
   "display_name": "Python 3",
   "language": "python",
   "name": "python3"
  },
  "language_info": {
   "codemirror_mode": {
    "name": "ipython",
    "version": 2
   },
   "file_extension": ".py",
   "mimetype": "text/x-python",
   "name": "python",
   "nbconvert_exporter": "python",
   "pygments_lexer": "ipython2",
   "version": "2.7.6"
  }
 },
 "nbformat": 4,
 "nbformat_minor": 0
}